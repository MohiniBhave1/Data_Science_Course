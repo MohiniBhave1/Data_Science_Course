{
 "cells": [
  {
   "cell_type": "markdown",
   "metadata": {},
   "source": [
    "# AUDIOBOOKS "
   ]
  },
  {
   "cell_type": "markdown",
   "metadata": {},
   "source": [
    "## Create ML algorithm"
   ]
  },
  {
   "cell_type": "markdown",
   "metadata": {},
   "source": [
    "### Import relevant libraries "
   ]
  },
  {
   "cell_type": "code",
   "execution_count": 1,
   "metadata": {},
   "outputs": [],
   "source": [
    "import numpy as np\n",
    "import tensorflow as tf"
   ]
  },
  {
   "cell_type": "markdown",
   "metadata": {},
   "source": [
    "## Data"
   ]
  },
  {
   "cell_type": "code",
   "execution_count": 2,
   "metadata": {},
   "outputs": [],
   "source": [
    "npz = np.load('Audiobooks_data_train.npz')\n",
    "\n",
    "train_inputs = npz['inputs'].astype(np.float)\n",
    "train_targets = npz['targets'].astype(np.int)\n",
    "\n",
    "npz = np.load('Audiobooks_data_validation.npz')\n",
    "\n",
    "validation_inputs = npz['inputs'].astype(np.float)\n",
    "validation_targets = npz['targets'].astype(np.int)\n",
    "\n",
    "npz = np.load('Audiobooks_data_test.npz')\n",
    "\n",
    "test_inputs = npz['inputs'].astype(np.float)\n",
    "test_targets = npz['targets'].astype(np.int)"
   ]
  },
  {
   "cell_type": "markdown",
   "metadata": {},
   "source": [
    "## Model"
   ]
  },
  {
   "cell_type": "markdown",
   "metadata": {},
   "source": [
    "Ouline, optimizers ,loss, early stopping and training "
   ]
  },
  {
   "cell_type": "code",
   "execution_count": 15,
   "metadata": {
    "scrolled": true
   },
   "outputs": [
    {
     "name": "stdout",
     "output_type": "stream",
     "text": [
      "Epoch 1/100\n",
      "36/36 - 0s - loss: 0.4977 - accuracy: 0.8287 - val_loss: 0.3539 - val_accuracy: 0.8904\n",
      "Epoch 2/100\n",
      "36/36 - 0s - loss: 0.3394 - accuracy: 0.8810 - val_loss: 0.2863 - val_accuracy: 0.8993\n",
      "Epoch 3/100\n",
      "36/36 - 0s - loss: 0.3060 - accuracy: 0.8882 - val_loss: 0.2768 - val_accuracy: 0.9038\n",
      "Epoch 4/100\n",
      "36/36 - 0s - loss: 0.2896 - accuracy: 0.8947 - val_loss: 0.2636 - val_accuracy: 0.9083\n",
      "Epoch 5/100\n",
      "36/36 - 0s - loss: 0.2768 - accuracy: 0.9003 - val_loss: 0.2614 - val_accuracy: 0.9105\n",
      "Epoch 6/100\n",
      "36/36 - 0s - loss: 0.2697 - accuracy: 0.8989 - val_loss: 0.2567 - val_accuracy: 0.9105\n",
      "Epoch 7/100\n",
      "36/36 - 0s - loss: 0.2620 - accuracy: 0.9014 - val_loss: 0.2521 - val_accuracy: 0.9105\n",
      "Epoch 8/100\n",
      "36/36 - 0s - loss: 0.2574 - accuracy: 0.9028 - val_loss: 0.2504 - val_accuracy: 0.9105\n",
      "Epoch 9/100\n",
      "36/36 - 0s - loss: 0.2517 - accuracy: 0.9036 - val_loss: 0.2481 - val_accuracy: 0.9128\n",
      "Epoch 10/100\n",
      "36/36 - 0s - loss: 0.2501 - accuracy: 0.9058 - val_loss: 0.2483 - val_accuracy: 0.9128\n",
      "Epoch 11/100\n",
      "36/36 - 0s - loss: 0.2442 - accuracy: 0.9070 - val_loss: 0.2448 - val_accuracy: 0.9128\n",
      "Epoch 12/100\n",
      "36/36 - 0s - loss: 0.2406 - accuracy: 0.9084 - val_loss: 0.2419 - val_accuracy: 0.9150\n",
      "Epoch 13/100\n",
      "36/36 - 0s - loss: 0.2396 - accuracy: 0.9092 - val_loss: 0.2432 - val_accuracy: 0.9105\n",
      "Epoch 14/100\n",
      "36/36 - 0s - loss: 0.2360 - accuracy: 0.9111 - val_loss: 0.2421 - val_accuracy: 0.9172\n"
     ]
    },
    {
     "data": {
      "text/plain": [
       "<tensorflow.python.keras.callbacks.History at 0x1a027b281c8>"
      ]
     },
     "execution_count": 15,
     "metadata": {},
     "output_type": "execute_result"
    }
   ],
   "source": [
    "input_size = 10\n",
    "output_size = 2\n",
    "hidden_layer_size = 50\n",
    "\n",
    "model = tf.keras.Sequential([\n",
    "                            tf.keras.layers.Dense(hidden_layer_size,activation='relu'),\n",
    "                            tf.keras.layers.Dense(hidden_layer_size,activation='relu'),\n",
    "                            tf.keras.layers.Dense(output_size,activation='softmax')\n",
    "                            ])\n",
    "\n",
    "model.compile(optimizer='adam',loss='sparse_categorical_crossentropy',metrics=['accuracy'])\n",
    "\n",
    "BATCH_SIZE = 100\n",
    "MAX_EPOCHS = 100\n",
    "\n",
    "early_stopping = tf.keras.callbacks.EarlyStopping(patience=2)\n",
    "\n",
    "model.fit(train_inputs,\n",
    "          train_targets,\n",
    "         batch_size = BATCH_SIZE,\n",
    "         epochs = MAX_EPOCHS,\n",
    "         callbacks = [early_stopping],\n",
    "         validation_data=(validation_inputs,validation_targets),\n",
    "         verbose = 2)"
   ]
  },
  {
   "cell_type": "markdown",
   "metadata": {},
   "source": [
    "<li>For 100 epochs while training loss was decreasing validation loss was sometimes increasing so we have overfitted the model </li>\n",
    "<li>By defalut , early_stopping will monitor the validation loss and stop the training process the first time the validation loss starts increasing</li> "
   ]
  },
  {
   "cell_type": "markdown",
   "metadata": {},
   "source": [
    "## Testing the model"
   ]
  },
  {
   "cell_type": "code",
   "execution_count": 17,
   "metadata": {},
   "outputs": [
    {
     "name": "stdout",
     "output_type": "stream",
     "text": [
      "14/14 [==============================] - 0s 2ms/step - loss: 0.2874 - accuracy: 0.8862\n"
     ]
    }
   ],
   "source": [
    "test_loss , test_accuracy = model.evaluate(test_inputs,test_targets)"
   ]
  },
  {
   "cell_type": "code",
   "execution_count": 18,
   "metadata": {},
   "outputs": [
    {
     "name": "stdout",
     "output_type": "stream",
     "text": [
      "Test loss : 0.29. Test accuracy : 88.62%\n"
     ]
    }
   ],
   "source": [
    "print('Test loss : {0:.2f}. Test accuracy : {1:.2f}%'.format(test_loss,test_accuracy*100.))"
   ]
  }
 ],
 "metadata": {
  "kernelspec": {
   "display_name": "Python [conda env:py3-TF2.0]",
   "language": "python",
   "name": "conda-env-py3-TF2.0-py"
  },
  "language_info": {
   "codemirror_mode": {
    "name": "ipython",
    "version": 3
   },
   "file_extension": ".py",
   "mimetype": "text/x-python",
   "name": "python",
   "nbconvert_exporter": "python",
   "pygments_lexer": "ipython3",
   "version": "3.7.7"
  }
 },
 "nbformat": 4,
 "nbformat_minor": 2
}
