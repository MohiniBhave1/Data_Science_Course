{
 "cells": [
  {
   "cell_type": "markdown",
   "metadata": {},
   "source": [
    "## Tensorflow 1 introduction"
   ]
  },
  {
   "cell_type": "code",
   "execution_count": 2,
   "metadata": {},
   "outputs": [],
   "source": [
    "import numpy as np\n",
    "import matplotlib.pyplot as plt\n",
    "import tensorflow as tf"
   ]
  },
  {
   "cell_type": "code",
   "execution_count": 3,
   "metadata": {},
   "outputs": [
    {
     "data": {
      "text/plain": [
       "'1.14.0'"
      ]
     },
     "execution_count": 3,
     "metadata": {},
     "output_type": "execute_result"
    }
   ],
   "source": [
    "tf.__version__"
   ]
  },
  {
   "cell_type": "markdown",
   "metadata": {},
   "source": [
    "## Data generation"
   ]
  },
  {
   "cell_type": "code",
   "execution_count": 4,
   "metadata": {},
   "outputs": [],
   "source": [
    "observations = 1000\n",
    "\n",
    "xs = np.random.uniform(low=-1,high=10,size=(observations,1))\n",
    "zs = np.random.uniform(-10,10,(observations,1))\n",
    "\n",
    "generated_inputs = np.column_stack((xs,zs))\n",
    "\n",
    "noise = np.random.uniform(-1,1,(observations,1))\n",
    "\n",
    "generated_targets = 2*xs - 3*zs + 5 + noise\n",
    "\n",
    "np.savez('TF_intro',inputs=generated_inputs,targets=generated_targets)"
   ]
  },
  {
   "cell_type": "markdown",
   "metadata": {},
   "source": [
    "## Solving with tensorflow "
   ]
  },
  {
   "cell_type": "code",
   "execution_count": 5,
   "metadata": {},
   "outputs": [],
   "source": [
    "input_size = 2\n",
    "output_size = 1"
   ]
  },
  {
   "cell_type": "markdown",
   "metadata": {},
   "source": [
    "### Outlining the model"
   ]
  },
  {
   "cell_type": "markdown",
   "metadata": {},
   "source": [
    "Placeholder is where we feed the data. The NONE means we need not specify the dimension;\n",
    "Variables preserve their values across iterations, while placeholders don't "
   ]
  },
  {
   "cell_type": "code",
   "execution_count": 7,
   "metadata": {},
   "outputs": [],
   "source": [
    "inputs = tf.placeholder(tf.float32,[None,input_size])\n",
    "targets = tf.placeholder(tf.float32,[None,output_size])\n",
    "\n",
    "weights = tf.Variable(tf.random_uniform([input_size,output_size],minval=-0.1,maxval=0.1))\n",
    "biases = tf.Variable(tf.random_uniform([output_size],minval=-0.1,maxval=0.1))\n",
    "\n",
    "outputs = tf.matmul(inputs,weights) + biases"
   ]
  },
  {
   "cell_type": "markdown",
   "metadata": {},
   "source": [
    "### Choosing the objective function and the optimization method"
   ]
  },
  {
   "cell_type": "code",
   "execution_count": 9,
   "metadata": {},
   "outputs": [],
   "source": [
    "mean_loss = tf.losses.mean_squared_error(labels=targets,predictions=outputs)/2.\n",
    "\n",
    "optimize = tf.train.GradientDescentOptimizer(learning_rate = 0.05).minimize(mean_loss)"
   ]
  },
  {
   "cell_type": "markdown",
   "metadata": {},
   "source": [
    "### Prepare for execution"
   ]
  },
  {
   "cell_type": "markdown",
   "metadata": {},
   "source": [
    "In tensorflow the training happens in sessions , When we use tf.IneractiveSession() we actually say \"Its time to execute \""
   ]
  },
  {
   "cell_type": "code",
   "execution_count": 10,
   "metadata": {},
   "outputs": [],
   "source": [
    "sess = tf.InteractiveSession()"
   ]
  },
  {
   "cell_type": "markdown",
   "metadata": {},
   "source": [
    "### Initializing the variables"
   ]
  },
  {
   "cell_type": "code",
   "execution_count": 12,
   "metadata": {},
   "outputs": [],
   "source": [
    "initializer = tf.global_variables_initializer()\n",
    "\n",
    "sess.run(initializer)"
   ]
  },
  {
   "cell_type": "markdown",
   "metadata": {},
   "source": [
    "### Loading the data"
   ]
  },
  {
   "cell_type": "code",
   "execution_count": 13,
   "metadata": {},
   "outputs": [],
   "source": [
    "training_data = np.load('TF_intro.npz')"
   ]
  },
  {
   "cell_type": "markdown",
   "metadata": {},
   "source": [
    "### Learnining"
   ]
  },
  {
   "cell_type": "markdown",
   "metadata": {},
   "source": [
    "Feed_dict tells the algorithm how the data is going to be fed"
   ]
  },
  {
   "cell_type": "code",
   "execution_count": 14,
   "metadata": {
    "scrolled": true
   },
   "outputs": [
    {
     "name": "stdout",
     "output_type": "stream",
     "text": [
      "249.10861\n",
      "69.72275\n",
      "23.518368\n",
      "10.135817\n",
      "5.7440257\n",
      "4.122632\n",
      "3.4499726\n",
      "3.1290116\n",
      "2.9458773\n",
      "2.8192701\n",
      "2.7171686\n",
      "2.6266828\n",
      "2.5425448\n",
      "2.4625545\n",
      "2.3857675\n",
      "2.3117461\n",
      "2.2402642\n",
      "2.1711822\n",
      "2.1043985\n",
      "2.0398273\n",
      "1.9773927\n",
      "1.9170221\n",
      "1.8586468\n",
      "1.8022006\n",
      "1.7476196\n",
      "1.6948415\n",
      "1.6438079\n",
      "1.5944607\n",
      "1.5467434\n",
      "1.5006028\n",
      "1.4559875\n",
      "1.412846\n",
      "1.37113\n",
      "1.3307917\n",
      "1.291787\n",
      "1.254071\n",
      "1.2176011\n",
      "1.1823367\n",
      "1.1482365\n",
      "1.1152643\n",
      "1.0833805\n",
      "1.0525508\n",
      "1.0227396\n",
      "0.9939136\n",
      "0.9660396\n",
      "0.9390868\n",
      "0.9130249\n",
      "0.8878239\n",
      "0.86345524\n",
      "0.8398922\n",
      "0.81710815\n",
      "0.7950763\n",
      "0.7737726\n",
      "0.7531729\n",
      "0.73325396\n",
      "0.7139929\n",
      "0.6953683\n",
      "0.6773592\n",
      "0.6599452\n",
      "0.64310634\n",
      "0.62682396\n",
      "0.6110798\n",
      "0.59585595\n",
      "0.5811349\n",
      "0.5669003\n",
      "0.5531358\n",
      "0.5398265\n",
      "0.52695656\n",
      "0.5145121\n",
      "0.5024789\n",
      "0.49084315\n",
      "0.4795918\n",
      "0.46871245\n",
      "0.45819244\n",
      "0.44801995\n",
      "0.43818396\n",
      "0.42867267\n",
      "0.4194756\n",
      "0.41058263\n",
      "0.40198347\n",
      "0.3936683\n",
      "0.38562787\n",
      "0.37785327\n",
      "0.37033564\n",
      "0.36306602\n",
      "0.35603702\n",
      "0.34923995\n",
      "0.3426676\n",
      "0.3363125\n",
      "0.33016723\n",
      "0.3242251\n",
      "0.31847945\n",
      "0.31292337\n",
      "0.30755115\n",
      "0.30235633\n",
      "0.29733306\n",
      "0.29247585\n",
      "0.2877791\n",
      "0.2832376\n",
      "0.2788462\n"
     ]
    }
   ],
   "source": [
    "for e in range(100):\n",
    "    \n",
    "    _,curr_loss = sess.run([optimize,mean_loss],\n",
    "                          feed_dict = {inputs:training_data['inputs'],targets:training_data['targets']})\n",
    "    print(curr_loss)"
   ]
  },
  {
   "cell_type": "markdown",
   "metadata": {},
   "source": [
    "### Plotting the data"
   ]
  },
  {
   "cell_type": "code",
   "execution_count": 15,
   "metadata": {},
   "outputs": [
    {
     "data": {
      "image/png": "[encoded data removed]",
      "text/plain": [
       "<Figure size 432x288 with 1 Axes>"
      ]
     },
     "metadata": {
      "needs_background": "light"
     },
     "output_type": "display_data"
    }
   ],
   "source": [
    "out = sess.run([outputs],\n",
    "              feed_dict = {inputs: training_data['inputs']})\n",
    "plt.plot(np.squeeze(out),np.squeeze(training_data['targets']))\n",
    "plt.xlabel('outputs')\n",
    "plt.ylabel('targets')\n",
    "plt.show()"
   ]
  },
  {
   "cell_type": "code",
   "execution_count": null,
   "metadata": {},
   "outputs": [],
   "source": []
  }
 ],
 "metadata": {
  "kernelspec": {
   "display_name": "Python [conda env:py3-TF1]",
   "language": "python",
   "name": "conda-env-py3-TF1-py"
  },
  "language_info": {
   "codemirror_mode": {
    "name": "ipython",
    "version": 3
   },
   "file_extension": ".py",
   "mimetype": "text/x-python",
   "name": "python",
   "nbconvert_exporter": "python",
   "pygments_lexer": "ipython3",
   "version": "3.6.10"
  }
 },
 "nbformat": 4,
 "nbformat_minor": 2
}
